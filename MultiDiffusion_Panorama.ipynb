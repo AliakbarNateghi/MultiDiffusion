{
 "nbformat": 4,
 "nbformat_minor": 0,
 "metadata": {
  "colab": {
   "provenance": [],
   "authorship_tag": "ABX9TyNPvWMdSaVeHAmL7Ye6f0jg",
   "include_colab_link": true
  },
  "kernelspec": {
   "name": "python3",
   "display_name": "Python 3"
  },
  "language_info": {
   "name": "python"
  },
  "accelerator": "GPU",
  "gpuClass": "standard"
 },
 "cells": [
  {
   "cell_type": "markdown",
   "metadata": {
    "id": "view-in-github",
    "colab_type": "text"
   },
   "source": [
    "<a href=\"https://colab.research.google.com/github/omerbt/MultiDiffusion/blob/master/MultiDiffusion_Panorama.ipynb\" target=\"_parent\"><img src=\"https://colab.research.google.com/assets/colab-badge.svg\" alt=\"Open In Colab\"/></a>"
   ]
  },
  {
   "cell_type": "markdown",
   "source": [
    "Setup"
   ],
   "metadata": {
    "id": "HWT5Q9c_qJ6v"
   }
  },
  {
   "metadata": {
    "id": "IIbLF70Rp-Dt"
   },
   "cell_type": "code",
   "execution_count": 6,
   "source": [
    "!pip install diffusers\n",
    "!pip install transformers"
   ],
   "outputs": []
  },
  {
   "cell_type": "code",
   "source": [
    "import torch\n",
    "from diffusers import StableDiffusionPanoramaPipeline, DDIMScheduler\n",
    "\n",
    "model_ckpt = \"stabilityai/stable-diffusion-2-base\"\n",
    "scheduler = DDIMScheduler.from_pretrained(model_ckpt, subfolder=\"scheduler\")\n",
    "pipe = StableDiffusionPanoramaPipeline.from_pretrained(\n",
    "     model_ckpt, scheduler=scheduler, torch_dtype=torch.float16\n",
    ")\n",
    "\n",
    "pipe = pipe.to(\"cuda\")"
   ],
   "metadata": {
    "id": "cXXNWiTAqWNS",
    "ExecuteTime": {
     "end_time": "2025-07-27T13:04:17.003729Z",
     "start_time": "2025-07-27T13:04:16.767752Z"
    }
   },
   "outputs": [
    {
     "ename": "ImportError",
     "evalue": "cannot import name 'cached_download' from 'huggingface_hub' (/home/aliakbar/Desktop/MultiDiffusion/.venv/lib/python3.12/site-packages/huggingface_hub/__init__.py)",
     "output_type": "error",
     "traceback": [
      "\u001B[31m---------------------------------------------------------------------------\u001B[39m",
      "\u001B[31mImportError\u001B[39m                               Traceback (most recent call last)",
      "\u001B[36mCell\u001B[39m\u001B[36m \u001B[39m\u001B[32mIn[3]\u001B[39m\u001B[32m, line 2\u001B[39m\n\u001B[32m      1\u001B[39m \u001B[38;5;28;01mimport\u001B[39;00m\u001B[38;5;250m \u001B[39m\u001B[34;01mtorch\u001B[39;00m\n\u001B[32m----> \u001B[39m\u001B[32m2\u001B[39m \u001B[38;5;28;01mfrom\u001B[39;00m\u001B[38;5;250m \u001B[39m\u001B[34;01mdiffusers\u001B[39;00m\u001B[38;5;250m \u001B[39m\u001B[38;5;28;01mimport\u001B[39;00m StableDiffusionPanoramaPipeline, DDIMScheduler\n\u001B[32m      4\u001B[39m model_ckpt = \u001B[33m\"\u001B[39m\u001B[33mstabilityai/stable-diffusion-2-base\u001B[39m\u001B[33m\"\u001B[39m\n\u001B[32m      5\u001B[39m scheduler = DDIMScheduler.from_pretrained(model_ckpt, subfolder=\u001B[33m\"\u001B[39m\u001B[33mscheduler\u001B[39m\u001B[33m\"\u001B[39m)\n",
      "\u001B[36mFile \u001B[39m\u001B[32m~/Desktop/MultiDiffusion/.venv/lib/python3.12/site-packages/diffusers/__init__.py:3\u001B[39m\n\u001B[32m      1\u001B[39m __version__ = \u001B[33m\"\u001B[39m\u001B[33m0.20.1\u001B[39m\u001B[33m\"\u001B[39m\n\u001B[32m----> \u001B[39m\u001B[32m3\u001B[39m \u001B[38;5;28;01mfrom\u001B[39;00m\u001B[38;5;250m \u001B[39m\u001B[34;01m.\u001B[39;00m\u001B[34;01mconfiguration_utils\u001B[39;00m\u001B[38;5;250m \u001B[39m\u001B[38;5;28;01mimport\u001B[39;00m ConfigMixin\n\u001B[32m      4\u001B[39m \u001B[38;5;28;01mfrom\u001B[39;00m\u001B[38;5;250m \u001B[39m\u001B[34;01m.\u001B[39;00m\u001B[34;01mutils\u001B[39;00m\u001B[38;5;250m \u001B[39m\u001B[38;5;28;01mimport\u001B[39;00m (\n\u001B[32m      5\u001B[39m     OptionalDependencyNotAvailable,\n\u001B[32m      6\u001B[39m     is_flax_available,\n\u001B[32m   (...)\u001B[39m\u001B[32m     20\u001B[39m     logging,\n\u001B[32m     21\u001B[39m )\n\u001B[32m     24\u001B[39m \u001B[38;5;28;01mtry\u001B[39;00m:\n",
      "\u001B[36mFile \u001B[39m\u001B[32m~/Desktop/MultiDiffusion/.venv/lib/python3.12/site-packages/diffusers/configuration_utils.py:34\u001B[39m\n\u001B[32m     31\u001B[39m \u001B[38;5;28;01mfrom\u001B[39;00m\u001B[38;5;250m \u001B[39m\u001B[34;01mrequests\u001B[39;00m\u001B[38;5;250m \u001B[39m\u001B[38;5;28;01mimport\u001B[39;00m HTTPError\n\u001B[32m     33\u001B[39m \u001B[38;5;28;01mfrom\u001B[39;00m\u001B[38;5;250m \u001B[39m\u001B[34;01m.\u001B[39;00m\u001B[38;5;250m \u001B[39m\u001B[38;5;28;01mimport\u001B[39;00m __version__\n\u001B[32m---> \u001B[39m\u001B[32m34\u001B[39m \u001B[38;5;28;01mfrom\u001B[39;00m\u001B[38;5;250m \u001B[39m\u001B[34;01m.\u001B[39;00m\u001B[34;01mutils\u001B[39;00m\u001B[38;5;250m \u001B[39m\u001B[38;5;28;01mimport\u001B[39;00m (\n\u001B[32m     35\u001B[39m     DIFFUSERS_CACHE,\n\u001B[32m     36\u001B[39m     HUGGINGFACE_CO_RESOLVE_ENDPOINT,\n\u001B[32m     37\u001B[39m     DummyObject,\n\u001B[32m     38\u001B[39m     deprecate,\n\u001B[32m     39\u001B[39m     extract_commit_hash,\n\u001B[32m     40\u001B[39m     http_user_agent,\n\u001B[32m     41\u001B[39m     logging,\n\u001B[32m     42\u001B[39m )\n\u001B[32m     45\u001B[39m logger = logging.get_logger(\u001B[34m__name__\u001B[39m)\n\u001B[32m     47\u001B[39m _re_configuration_file = re.compile(\u001B[33mr\u001B[39m\u001B[33m\"\u001B[39m\u001B[33mconfig\u001B[39m\u001B[33m\\\u001B[39m\u001B[33m.(.*)\u001B[39m\u001B[33m\\\u001B[39m\u001B[33m.json\u001B[39m\u001B[33m\"\u001B[39m)\n",
      "\u001B[36mFile \u001B[39m\u001B[32m~/Desktop/MultiDiffusion/.venv/lib/python3.12/site-packages/diffusers/utils/__init__.py:37\u001B[39m\n\u001B[32m     35\u001B[39m \u001B[38;5;28;01mfrom\u001B[39;00m\u001B[38;5;250m \u001B[39m\u001B[34;01m.\u001B[39;00m\u001B[34;01mdeprecation_utils\u001B[39;00m\u001B[38;5;250m \u001B[39m\u001B[38;5;28;01mimport\u001B[39;00m deprecate\n\u001B[32m     36\u001B[39m \u001B[38;5;28;01mfrom\u001B[39;00m\u001B[38;5;250m \u001B[39m\u001B[34;01m.\u001B[39;00m\u001B[34;01mdoc_utils\u001B[39;00m\u001B[38;5;250m \u001B[39m\u001B[38;5;28;01mimport\u001B[39;00m replace_example_docstring\n\u001B[32m---> \u001B[39m\u001B[32m37\u001B[39m \u001B[38;5;28;01mfrom\u001B[39;00m\u001B[38;5;250m \u001B[39m\u001B[34;01m.\u001B[39;00m\u001B[34;01mdynamic_modules_utils\u001B[39;00m\u001B[38;5;250m \u001B[39m\u001B[38;5;28;01mimport\u001B[39;00m get_class_from_dynamic_module\n\u001B[32m     38\u001B[39m \u001B[38;5;28;01mfrom\u001B[39;00m\u001B[38;5;250m \u001B[39m\u001B[34;01m.\u001B[39;00m\u001B[34;01mhub_utils\u001B[39;00m\u001B[38;5;250m \u001B[39m\u001B[38;5;28;01mimport\u001B[39;00m (\n\u001B[32m     39\u001B[39m     HF_HUB_OFFLINE,\n\u001B[32m     40\u001B[39m     PushToHubMixin,\n\u001B[32m   (...)\u001B[39m\u001B[32m     44\u001B[39m     http_user_agent,\n\u001B[32m     45\u001B[39m )\n\u001B[32m     46\u001B[39m \u001B[38;5;28;01mfrom\u001B[39;00m\u001B[38;5;250m \u001B[39m\u001B[34;01m.\u001B[39;00m\u001B[34;01mimport_utils\u001B[39;00m\u001B[38;5;250m \u001B[39m\u001B[38;5;28;01mimport\u001B[39;00m (\n\u001B[32m     47\u001B[39m     BACKENDS_MAPPING,\n\u001B[32m     48\u001B[39m     ENV_VARS_TRUE_AND_AUTO_VALUES,\n\u001B[32m   (...)\u001B[39m\u001B[32m     79\u001B[39m     requires_backends,\n\u001B[32m     80\u001B[39m )\n",
      "\u001B[36mFile \u001B[39m\u001B[32m~/Desktop/MultiDiffusion/.venv/lib/python3.12/site-packages/diffusers/utils/dynamic_modules_utils.py:28\u001B[39m\n\u001B[32m     25\u001B[39m \u001B[38;5;28;01mfrom\u001B[39;00m\u001B[38;5;250m \u001B[39m\u001B[34;01mtyping\u001B[39;00m\u001B[38;5;250m \u001B[39m\u001B[38;5;28;01mimport\u001B[39;00m Dict, Optional, Union\n\u001B[32m     26\u001B[39m \u001B[38;5;28;01mfrom\u001B[39;00m\u001B[38;5;250m \u001B[39m\u001B[34;01murllib\u001B[39;00m\u001B[38;5;250m \u001B[39m\u001B[38;5;28;01mimport\u001B[39;00m request\n\u001B[32m---> \u001B[39m\u001B[32m28\u001B[39m \u001B[38;5;28;01mfrom\u001B[39;00m\u001B[38;5;250m \u001B[39m\u001B[34;01mhuggingface_hub\u001B[39;00m\u001B[38;5;250m \u001B[39m\u001B[38;5;28;01mimport\u001B[39;00m HfFolder, cached_download, hf_hub_download, model_info\n\u001B[32m     29\u001B[39m \u001B[38;5;28;01mfrom\u001B[39;00m\u001B[38;5;250m \u001B[39m\u001B[34;01mpackaging\u001B[39;00m\u001B[38;5;250m \u001B[39m\u001B[38;5;28;01mimport\u001B[39;00m version\n\u001B[32m     31\u001B[39m \u001B[38;5;28;01mfrom\u001B[39;00m\u001B[38;5;250m \u001B[39m\u001B[34;01m.\u001B[39;00m\u001B[34;01m.\u001B[39;00m\u001B[38;5;250m \u001B[39m\u001B[38;5;28;01mimport\u001B[39;00m __version__\n",
      "\u001B[31mImportError\u001B[39m: cannot import name 'cached_download' from 'huggingface_hub' (/home/aliakbar/Desktop/MultiDiffusion/.venv/lib/python3.12/site-packages/huggingface_hub/__init__.py)"
     ]
    }
   ],
   "execution_count": 3
  },
  {
   "metadata": {},
   "cell_type": "markdown",
   "source": "Create a Panorama!"
  },
  {
   "metadata": {},
   "cell_type": "markdown",
   "source": "For more details, please visit our [project page](https://multidiffusion.github.io/) and our [paper](https://arxiv.org/abs/2302.08113)."
  },
  {
   "metadata": {
    "colab": {
     "base_uri": "https://localhost:8080/",
     "height": 332
    },
    "id": "rjwy0QZHsflu",
    "outputId": "5e82b3ff-1753-43f1-fb36-521be16a3f4d",
    "ExecuteTime": {
     "end_time": "2025-07-27T13:03:27.168177Z",
     "start_time": "2025-07-27T13:03:27.142572Z"
    }
   },
   "cell_type": "code",
   "source": [
    "H = 512\n",
    "W = 2048\n",
    "\n",
    "prompt = \"a photo of the dolomites\"\n",
    "image = pipe(prompt, height=H, width=W).images[0]\n",
    "image"
   ],
   "outputs": [],
   "execution_count": null
  },
  {
   "metadata": {},
   "cell_type": "markdown",
   "source": "Save the result"
  },
  {
   "metadata": {
    "id": "2O10IhwBqdwS"
   },
   "cell_type": "code",
   "source": "image.save(\"output.png\")",
   "outputs": [],
   "execution_count": null
  }
 ]
}
